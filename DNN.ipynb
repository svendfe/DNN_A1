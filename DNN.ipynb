{
 "cells": [
  {
   "cell_type": "code",
   "execution_count": null,
   "id": "94a2f0ae",
   "metadata": {},
   "outputs": [],
   "source": [
    "%pip install --force-reinstall -v \"tensorflow==2.19\"\n",
    "%pip install pandas keras keras_tuner"
   ]
  },
  {
   "cell_type": "code",
   "execution_count": null,
   "id": "6d2e0492",
   "metadata": {},
   "outputs": [],
   "source": [
    "%pip install matplotlib seaborn scikit-learn\n",
    "%pip install mlflow"
   ]
  },
  {
   "cell_type": "code",
   "execution_count": null,
   "id": "2e292639",
   "metadata": {},
   "outputs": [
    {
     "name": "stderr",
     "output_type": "stream",
     "text": [
      "2025/10/05 17:47:37 INFO mlflow.tracking.fluent: Experiment with name 'classification_experiments' does not exist. Creating a new experiment.\n"
     ]
    },
    {
     "data": {
      "text/plain": [
       "<Experiment: artifact_location='file:///Users/federicosvendsen/Documents/UPM/NN%20%26%20DL/Assignment/mlruns/358204335309985958', creation_time=1759679257394, experiment_id='358204335309985958', last_update_time=1759679257394, lifecycle_stage='active', name='classification_experiments', tags={}>"
      ]
     },
     "execution_count": 6,
     "metadata": {},
     "output_type": "execute_result"
    }
   ],
   "source": [
    "import os\n",
    "\n",
    "os.environ[\"KERAS_BACKEND\"] = \"tensorflow\"\n",
    "\n",
    "import pandas as pd\n",
    "import tensorflow as tf\n",
    "from tensorflow import keras\n",
    "from tensorflow.keras import layers\n",
    "import mlflow\n",
    "import mlflow.keras\n",
    "\n",
    "mlflow.set_experiment(\"classification_experiments\")\n",
    "import matplotlib.pyplot as plt\n",
    "\n"
   ]
  },
  {
   "cell_type": "code",
   "execution_count": 7,
   "id": "bb2d23c6",
   "metadata": {},
   "outputs": [],
   "source": [
    "input_file_path = \"FootballPlayerPreparedCleanAttributes.csv\"\n",
    "output_file_path = \"FootballPlayerOneHotEncodedClasses.csv\"\n",
    "input_dataframe = pd.read_csv(input_file_path)\n",
    "output_dataframe = pd.read_csv(output_file_path)"
   ]
  },
  {
   "cell_type": "code",
   "execution_count": 16,
   "id": "71ad1dc6",
   "metadata": {},
   "outputs": [],
   "source": [
    "seed_1 = 42\n",
    "seed_2 = 24\n",
    "\n",
    "train_x = input_dataframe.sample(frac = 0.8, random_state=seed_1)\n",
    "test_temp_x = input_dataframe.drop(train_x.index)\n",
    "test_x = test_temp_x.sample(frac = 0.5, random_state=seed_2)\n",
    "validate_x = test_temp_x.drop(test_x.index)\n",
    "\n",
    "train_y = output_dataframe.loc[train_x.index]\n",
    "test_y = output_dataframe.loc[test_x.index]\n",
    "validate_y = output_dataframe.loc[validate_x.index]\n"
   ]
  },
  {
   "cell_type": "code",
   "execution_count": 42,
   "id": "7bb79255",
   "metadata": {},
   "outputs": [
    {
     "name": "stdout",
     "output_type": "stream",
     "text": [
      "Epoch 1/50\n",
      "\u001b[1m404/404\u001b[0m \u001b[32m━━━━━━━━━━━━━━━━━━━━\u001b[0m\u001b[37m\u001b[0m \u001b[1m2s\u001b[0m 2ms/step - accuracy: 0.6197 - loss: 0.8297 - val_accuracy: 0.7918 - val_loss: 0.5063\n",
      "Epoch 2/50\n",
      "\u001b[1m404/404\u001b[0m \u001b[32m━━━━━━━━━━━━━━━━━━━━\u001b[0m\u001b[37m\u001b[0m \u001b[1m1s\u001b[0m 2ms/step - accuracy: 0.7550 - loss: 0.5709 - val_accuracy: 0.8395 - val_loss: 0.3930\n",
      "Epoch 3/50\n",
      "\u001b[1m404/404\u001b[0m \u001b[32m━━━━━━━━━━━━━━━━━━━━\u001b[0m\u001b[37m\u001b[0m \u001b[1m1s\u001b[0m 2ms/step - accuracy: 0.7865 - loss: 0.5179 - val_accuracy: 0.8457 - val_loss: 0.3980\n",
      "Epoch 4/50\n",
      "\u001b[1m404/404\u001b[0m \u001b[32m━━━━━━━━━━━━━━━━━━━━\u001b[0m\u001b[37m\u001b[0m \u001b[1m1s\u001b[0m 2ms/step - accuracy: 0.7941 - loss: 0.4901 - val_accuracy: 0.8501 - val_loss: 0.3693\n",
      "Epoch 5/50\n",
      "\u001b[1m404/404\u001b[0m \u001b[32m━━━━━━━━━━━━━━━━━━━━\u001b[0m\u001b[37m\u001b[0m \u001b[1m1s\u001b[0m 2ms/step - accuracy: 0.8023 - loss: 0.4686 - val_accuracy: 0.8383 - val_loss: 0.3739\n",
      "Epoch 6/50\n",
      "\u001b[1m404/404\u001b[0m \u001b[32m━━━━━━━━━━━━━━━━━━━━\u001b[0m\u001b[37m\u001b[0m \u001b[1m1s\u001b[0m 2ms/step - accuracy: 0.8068 - loss: 0.4613 - val_accuracy: 0.8420 - val_loss: 0.3714\n",
      "Epoch 7/50\n",
      "\u001b[1m404/404\u001b[0m \u001b[32m━━━━━━━━━━━━━━━━━━━━\u001b[0m\u001b[37m\u001b[0m \u001b[1m2s\u001b[0m 4ms/step - accuracy: 0.8099 - loss: 0.4523 - val_accuracy: 0.8445 - val_loss: 0.3730\n",
      "Epoch 8/50\n",
      "\u001b[1m404/404\u001b[0m \u001b[32m━━━━━━━━━━━━━━━━━━━━\u001b[0m\u001b[37m\u001b[0m \u001b[1m1s\u001b[0m 2ms/step - accuracy: 0.8082 - loss: 0.4467 - val_accuracy: 0.8501 - val_loss: 0.3498\n",
      "Epoch 9/50\n",
      "\u001b[1m404/404\u001b[0m \u001b[32m━━━━━━━━━━━━━━━━━━━━\u001b[0m\u001b[37m\u001b[0m \u001b[1m1s\u001b[0m 2ms/step - accuracy: 0.8204 - loss: 0.4288 - val_accuracy: 0.8501 - val_loss: 0.3544\n",
      "Epoch 10/50\n",
      "\u001b[1m404/404\u001b[0m \u001b[32m━━━━━━━━━━━━━━━━━━━━\u001b[0m\u001b[37m\u001b[0m \u001b[1m1s\u001b[0m 2ms/step - accuracy: 0.8241 - loss: 0.4285 - val_accuracy: 0.8556 - val_loss: 0.3456\n",
      "Epoch 11/50\n",
      "\u001b[1m404/404\u001b[0m \u001b[32m━━━━━━━━━━━━━━━━━━━━\u001b[0m\u001b[37m\u001b[0m \u001b[1m1s\u001b[0m 2ms/step - accuracy: 0.8242 - loss: 0.4222 - val_accuracy: 0.8525 - val_loss: 0.3495\n",
      "Epoch 12/50\n",
      "\u001b[1m404/404\u001b[0m \u001b[32m━━━━━━━━━━━━━━━━━━━━\u001b[0m\u001b[37m\u001b[0m \u001b[1m1s\u001b[0m 2ms/step - accuracy: 0.8298 - loss: 0.4106 - val_accuracy: 0.8519 - val_loss: 0.3677\n",
      "Epoch 13/50\n",
      "\u001b[1m404/404\u001b[0m \u001b[32m━━━━━━━━━━━━━━━━━━━━\u001b[0m\u001b[37m\u001b[0m \u001b[1m1s\u001b[0m 2ms/step - accuracy: 0.8316 - loss: 0.4112 - val_accuracy: 0.8544 - val_loss: 0.3461\n",
      "Epoch 14/50\n",
      "\u001b[1m404/404\u001b[0m \u001b[32m━━━━━━━━━━━━━━━━━━━━\u001b[0m\u001b[37m\u001b[0m \u001b[1m1s\u001b[0m 2ms/step - accuracy: 0.8280 - loss: 0.4149 - val_accuracy: 0.8594 - val_loss: 0.3403\n",
      "Epoch 15/50\n",
      "\u001b[1m404/404\u001b[0m \u001b[32m━━━━━━━━━━━━━━━━━━━━\u001b[0m\u001b[37m\u001b[0m \u001b[1m1s\u001b[0m 2ms/step - accuracy: 0.8289 - loss: 0.4092 - val_accuracy: 0.8550 - val_loss: 0.3486\n",
      "Epoch 16/50\n",
      "\u001b[1m404/404\u001b[0m \u001b[32m━━━━━━━━━━━━━━━━━━━━\u001b[0m\u001b[37m\u001b[0m \u001b[1m1s\u001b[0m 2ms/step - accuracy: 0.8337 - loss: 0.4013 - val_accuracy: 0.8569 - val_loss: 0.3495\n",
      "Epoch 17/50\n",
      "\u001b[1m404/404\u001b[0m \u001b[32m━━━━━━━━━━━━━━━━━━━━\u001b[0m\u001b[37m\u001b[0m \u001b[1m1s\u001b[0m 2ms/step - accuracy: 0.8326 - loss: 0.4037 - val_accuracy: 0.8600 - val_loss: 0.3400\n",
      "Epoch 18/50\n",
      "\u001b[1m404/404\u001b[0m \u001b[32m━━━━━━━━━━━━━━━━━━━━\u001b[0m\u001b[37m\u001b[0m \u001b[1m1s\u001b[0m 2ms/step - accuracy: 0.8322 - loss: 0.3976 - val_accuracy: 0.8699 - val_loss: 0.3363\n",
      "Epoch 19/50\n",
      "\u001b[1m404/404\u001b[0m \u001b[32m━━━━━━━━━━━━━━━━━━━━\u001b[0m\u001b[37m\u001b[0m \u001b[1m1s\u001b[0m 2ms/step - accuracy: 0.8400 - loss: 0.4001 - val_accuracy: 0.8501 - val_loss: 0.3668\n",
      "Epoch 20/50\n",
      "\u001b[1m404/404\u001b[0m \u001b[32m━━━━━━━━━━━━━━━━━━━━\u001b[0m\u001b[37m\u001b[0m \u001b[1m1s\u001b[0m 2ms/step - accuracy: 0.8394 - loss: 0.3913 - val_accuracy: 0.8612 - val_loss: 0.3391\n",
      "Epoch 21/50\n",
      "\u001b[1m404/404\u001b[0m \u001b[32m━━━━━━━━━━━━━━━━━━━━\u001b[0m\u001b[37m\u001b[0m \u001b[1m1s\u001b[0m 2ms/step - accuracy: 0.8400 - loss: 0.3899 - val_accuracy: 0.8569 - val_loss: 0.3396\n",
      "Epoch 22/50\n",
      "\u001b[1m404/404\u001b[0m \u001b[32m━━━━━━━━━━━━━━━━━━━━\u001b[0m\u001b[37m\u001b[0m \u001b[1m1s\u001b[0m 2ms/step - accuracy: 0.8380 - loss: 0.3883 - val_accuracy: 0.8643 - val_loss: 0.3321\n",
      "Epoch 23/50\n",
      "\u001b[1m404/404\u001b[0m \u001b[32m━━━━━━━━━━━━━━━━━━━━\u001b[0m\u001b[37m\u001b[0m \u001b[1m1s\u001b[0m 2ms/step - accuracy: 0.8414 - loss: 0.3900 - val_accuracy: 0.8643 - val_loss: 0.3331\n",
      "Epoch 24/50\n",
      "\u001b[1m404/404\u001b[0m \u001b[32m━━━━━━━━━━━━━━━━━━━━\u001b[0m\u001b[37m\u001b[0m \u001b[1m1s\u001b[0m 2ms/step - accuracy: 0.8405 - loss: 0.3819 - val_accuracy: 0.8600 - val_loss: 0.3386\n",
      "Epoch 25/50\n",
      "\u001b[1m404/404\u001b[0m \u001b[32m━━━━━━━━━━━━━━━━━━━━\u001b[0m\u001b[37m\u001b[0m \u001b[1m1s\u001b[0m 2ms/step - accuracy: 0.8433 - loss: 0.3848 - val_accuracy: 0.8594 - val_loss: 0.3434\n",
      "Epoch 26/50\n",
      "\u001b[1m404/404\u001b[0m \u001b[32m━━━━━━━━━━━━━━━━━━━━\u001b[0m\u001b[37m\u001b[0m \u001b[1m1s\u001b[0m 2ms/step - accuracy: 0.8392 - loss: 0.3852 - val_accuracy: 0.8594 - val_loss: 0.3317\n",
      "Epoch 27/50\n",
      "\u001b[1m404/404\u001b[0m \u001b[32m━━━━━━━━━━━━━━━━━━━━\u001b[0m\u001b[37m\u001b[0m \u001b[1m1s\u001b[0m 2ms/step - accuracy: 0.8434 - loss: 0.3816 - val_accuracy: 0.8501 - val_loss: 0.3653\n",
      "Epoch 28/50\n",
      "\u001b[1m404/404\u001b[0m \u001b[32m━━━━━━━━━━━━━━━━━━━━\u001b[0m\u001b[37m\u001b[0m \u001b[1m1s\u001b[0m 2ms/step - accuracy: 0.8419 - loss: 0.3799 - val_accuracy: 0.8563 - val_loss: 0.3395\n",
      "Epoch 29/50\n",
      "\u001b[1m404/404\u001b[0m \u001b[32m━━━━━━━━━━━━━━━━━━━━\u001b[0m\u001b[37m\u001b[0m \u001b[1m1s\u001b[0m 2ms/step - accuracy: 0.8464 - loss: 0.3762 - val_accuracy: 0.8544 - val_loss: 0.3424\n",
      "Epoch 30/50\n",
      "\u001b[1m404/404\u001b[0m \u001b[32m━━━━━━━━━━━━━━━━━━━━\u001b[0m\u001b[37m\u001b[0m \u001b[1m1s\u001b[0m 2ms/step - accuracy: 0.8464 - loss: 0.3759 - val_accuracy: 0.8488 - val_loss: 0.3359\n",
      "Epoch 31/50\n",
      "\u001b[1m404/404\u001b[0m \u001b[32m━━━━━━━━━━━━━━━━━━━━\u001b[0m\u001b[37m\u001b[0m \u001b[1m1s\u001b[0m 2ms/step - accuracy: 0.8494 - loss: 0.3753 - val_accuracy: 0.8594 - val_loss: 0.3483\n",
      "Epoch 32/50\n",
      "\u001b[1m404/404\u001b[0m \u001b[32m━━━━━━━━━━━━━━━━━━━━\u001b[0m\u001b[37m\u001b[0m \u001b[1m1s\u001b[0m 2ms/step - accuracy: 0.8447 - loss: 0.3763 - val_accuracy: 0.8445 - val_loss: 0.3529\n",
      "Epoch 33/50\n",
      "\u001b[1m404/404\u001b[0m \u001b[32m━━━━━━━━━━━━━━━━━━━━\u001b[0m\u001b[37m\u001b[0m \u001b[1m1s\u001b[0m 2ms/step - accuracy: 0.8440 - loss: 0.3760 - val_accuracy: 0.8476 - val_loss: 0.3541\n",
      "Epoch 34/50\n",
      "\u001b[1m404/404\u001b[0m \u001b[32m━━━━━━━━━━━━━━━━━━━━\u001b[0m\u001b[37m\u001b[0m \u001b[1m1s\u001b[0m 2ms/step - accuracy: 0.8439 - loss: 0.3790 - val_accuracy: 0.8445 - val_loss: 0.3429\n",
      "Epoch 35/50\n",
      "\u001b[1m404/404\u001b[0m \u001b[32m━━━━━━━━━━━━━━━━━━━━\u001b[0m\u001b[37m\u001b[0m \u001b[1m1s\u001b[0m 2ms/step - accuracy: 0.8474 - loss: 0.3713 - val_accuracy: 0.8538 - val_loss: 0.3397\n",
      "Epoch 36/50\n",
      "\u001b[1m404/404\u001b[0m \u001b[32m━━━━━━━━━━━━━━━━━━━━\u001b[0m\u001b[37m\u001b[0m \u001b[1m1s\u001b[0m 2ms/step - accuracy: 0.8502 - loss: 0.3717 - val_accuracy: 0.8581 - val_loss: 0.3370\n",
      "Epoch 37/50\n",
      "\u001b[1m404/404\u001b[0m \u001b[32m━━━━━━━━━━━━━━━━━━━━\u001b[0m\u001b[37m\u001b[0m \u001b[1m1s\u001b[0m 2ms/step - accuracy: 0.8474 - loss: 0.3746 - val_accuracy: 0.8556 - val_loss: 0.3442\n",
      "Epoch 38/50\n",
      "\u001b[1m404/404\u001b[0m \u001b[32m━━━━━━━━━━━━━━━━━━━━\u001b[0m\u001b[37m\u001b[0m \u001b[1m1s\u001b[0m 2ms/step - accuracy: 0.8499 - loss: 0.3631 - val_accuracy: 0.8587 - val_loss: 0.3368\n",
      "Epoch 39/50\n",
      "\u001b[1m404/404\u001b[0m \u001b[32m━━━━━━━━━━━━━━━━━━━━\u001b[0m\u001b[37m\u001b[0m \u001b[1m1s\u001b[0m 2ms/step - accuracy: 0.8502 - loss: 0.3689 - val_accuracy: 0.8575 - val_loss: 0.3375\n",
      "Epoch 40/50\n",
      "\u001b[1m404/404\u001b[0m \u001b[32m━━━━━━━━━━━━━━━━━━━━\u001b[0m\u001b[37m\u001b[0m \u001b[1m1s\u001b[0m 2ms/step - accuracy: 0.8514 - loss: 0.3663 - val_accuracy: 0.8488 - val_loss: 0.3480\n",
      "Epoch 41/50\n",
      "\u001b[1m404/404\u001b[0m \u001b[32m━━━━━━━━━━━━━━━━━━━━\u001b[0m\u001b[37m\u001b[0m \u001b[1m1s\u001b[0m 2ms/step - accuracy: 0.8508 - loss: 0.3715 - val_accuracy: 0.8569 - val_loss: 0.3442\n",
      "Epoch 42/50\n",
      "\u001b[1m404/404\u001b[0m \u001b[32m━━━━━━━━━━━━━━━━━━━━\u001b[0m\u001b[37m\u001b[0m \u001b[1m1s\u001b[0m 2ms/step - accuracy: 0.8557 - loss: 0.3559 - val_accuracy: 0.8532 - val_loss: 0.3523\n",
      "Epoch 43/50\n",
      "\u001b[1m404/404\u001b[0m \u001b[32m━━━━━━━━━━━━━━━━━━━━\u001b[0m\u001b[37m\u001b[0m \u001b[1m1s\u001b[0m 2ms/step - accuracy: 0.8498 - loss: 0.3642 - val_accuracy: 0.8550 - val_loss: 0.3439\n",
      "Epoch 44/50\n",
      "\u001b[1m404/404\u001b[0m \u001b[32m━━━━━━━━━━━━━━━━━━━━\u001b[0m\u001b[37m\u001b[0m \u001b[1m1s\u001b[0m 2ms/step - accuracy: 0.8522 - loss: 0.3673 - val_accuracy: 0.8587 - val_loss: 0.3357\n",
      "Epoch 45/50\n",
      "\u001b[1m404/404\u001b[0m \u001b[32m━━━━━━━━━━━━━━━━━━━━\u001b[0m\u001b[37m\u001b[0m \u001b[1m1s\u001b[0m 2ms/step - accuracy: 0.8519 - loss: 0.3561 - val_accuracy: 0.8563 - val_loss: 0.3421\n",
      "Epoch 46/50\n",
      "\u001b[1m404/404\u001b[0m \u001b[32m━━━━━━━━━━━━━━━━━━━━\u001b[0m\u001b[37m\u001b[0m \u001b[1m1s\u001b[0m 2ms/step - accuracy: 0.8540 - loss: 0.3569 - val_accuracy: 0.8513 - val_loss: 0.3440\n",
      "Epoch 47/50\n",
      "\u001b[1m404/404\u001b[0m \u001b[32m━━━━━━━━━━━━━━━━━━━━\u001b[0m\u001b[37m\u001b[0m \u001b[1m1s\u001b[0m 2ms/step - accuracy: 0.8548 - loss: 0.3608 - val_accuracy: 0.8612 - val_loss: 0.3308\n",
      "Epoch 48/50\n",
      "\u001b[1m404/404\u001b[0m \u001b[32m━━━━━━━━━━━━━━━━━━━━\u001b[0m\u001b[37m\u001b[0m \u001b[1m1s\u001b[0m 2ms/step - accuracy: 0.8535 - loss: 0.3567 - val_accuracy: 0.8488 - val_loss: 0.3516\n",
      "Epoch 49/50\n",
      "\u001b[1m404/404\u001b[0m \u001b[32m━━━━━━━━━━━━━━━━━━━━\u001b[0m\u001b[37m\u001b[0m \u001b[1m1s\u001b[0m 2ms/step - accuracy: 0.8547 - loss: 0.3566 - val_accuracy: 0.8606 - val_loss: 0.3418\n",
      "Epoch 50/50\n",
      "\u001b[1m404/404\u001b[0m \u001b[32m━━━━━━━━━━━━━━━━━━━━\u001b[0m\u001b[37m\u001b[0m \u001b[1m1s\u001b[0m 2ms/step - accuracy: 0.8503 - loss: 0.3636 - val_accuracy: 0.8606 - val_loss: 0.3412\n"
     ]
    },
    {
     "name": "stderr",
     "output_type": "stream",
     "text": [
      "2025/10/05 22:24:15 WARNING mlflow.models.model: `artifact_path` is deprecated. Please use `name` instead.\n",
      "2025/10/05 22:24:15 WARNING mlflow.keras.save: You are saving a Keras model without specifying model signature.\n",
      "2025/10/05 22:24:15 WARNING mlflow.utils.environment: Encountered an unexpected error while inferring pip requirements (model URI: /var/folders/t2/d3hrzr8x7zd9cnztszgjcw0h0000gn/T/tmpfhd8iw2e/model, flavor: keras). Fall back to return ['keras==3.11.3']. Set logging level to DEBUG to see the full traceback. \n",
      "\u001b[31m2025/10/05 22:24:15 WARNING mlflow.models.model: Model logged without a signature and input example. Please set `input_example` parameter when logging the model to auto infer the model signature.\u001b[0m\n"
     ]
    },
    {
     "data": {
      "image/png": "[encoded data removed]",
      "text/plain": [
       "<Figure size 640x480 with 1 Axes>"
      ]
     },
     "metadata": {},
     "output_type": "display_data"
    }
   ],
   "source": [
    "with mlflow.start_run(run_name=f\"hyperparameter_tuning_run\"):\n",
    "    \n",
    "    # Log hyperparameters\n",
    "    mlflow.log_param(\"activation\", \"relu/tanh\")\n",
    "    mlflow.log_param(\"dropout_rate\", 0.45)\n",
    "    mlflow.log_param(\"batch_size\", 32)\n",
    "    mlflow.log_param(\"epochs\", 50)\n",
    "    \n",
    "    # Define the model\n",
    "    model = keras.Sequential([\n",
    "        layers.Input(shape=(22,)),                # 22 input features\n",
    "        layers.Dense(256, activation='relu'),     # hidden layer 1\n",
    "        layers.Dropout(0.4),                      # regularization\n",
    "        layers.Dense(256, activation='tanh'),     # hidden layer 2\n",
    "        layers.Dropout(0.4),\n",
    "        layers.Dense(32, activation='relu'),      # hidden layer 1\n",
    "        layers.Dropout(0.4),                      # regularization\n",
    "        layers.Dense(32, activation='tanh'),      # hidden layer 2\n",
    "        layers.Dropout(0.4),\n",
    "        layers.Dense(4, activation='softmax')     # output layer (4 classes)\n",
    "    ])\n",
    "\n",
    "    model.compile(\n",
    "        optimizer='adam',\n",
    "        loss='categorical_crossentropy',\n",
    "        metrics=['accuracy']\n",
    "    )\n",
    "\n",
    "    history = model.fit(\n",
    "        train_x, train_y,\n",
    "        validation_data=(test_x, test_y),\n",
    "        epochs=50,\n",
    "        batch_size=32,\n",
    "        verbose=1\n",
    "    )\n",
    "    \n",
    "    # Log metrics (final epoch metrics)\n",
    "    mlflow.log_metric(\"train_accuracy\", history.history['accuracy'][-1])\n",
    "    mlflow.log_metric(\"val_accuracy\", history.history['val_accuracy'][-1])\n",
    "    mlflow.log_metric(\"train_loss\", history.history['loss'][-1])\n",
    "    mlflow.log_metric(\"val_loss\", history.history['val_loss'][-1])\n",
    "\n",
    "    plt.plot(history.history['val_accuracy'])\n",
    "    plt.title('Validation Accuracy')\n",
    "    plt.savefig(\"val_accuracy.png\")\n",
    "    mlflow.log_artifact(\"val_accuracy.png\")\n",
    "    \n",
    "    # Log the trained Keras model\n",
    "    mlflow.keras.log_model(model, \"keras_model\")\n"
   ]
  },
  {
   "cell_type": "code",
   "execution_count": 34,
   "id": "da5a39ae",
   "metadata": {},
   "outputs": [],
   "source": [
    "import keras_tuner as kt\n",
    "from tensorflow import keras\n",
    "from tensorflow.keras import layers\n"
   ]
  },
  {
   "cell_type": "code",
   "execution_count": 32,
   "id": "20aaa68b",
   "metadata": {},
   "outputs": [],
   "source": [
    "def build_model(hp):\n",
    "    model = keras.Sequential()\n",
    "    \n",
    "    # Input layer (fixed 22 features)\n",
    "    model.add(layers.Input(shape=(22,)))\n",
    "    \n",
    "    # Tune number of hidden layers: between 1 and 3\n",
    "    for i in range(hp.Int('num_layers', 1, 3)):\n",
    "        for activation in ['relu', 'tanh']:\n",
    "            model.add(layers.Dense(\n",
    "                units=hp.Int(f'units_{i}', min_value=32, max_value=256, step=32),\n",
    "                activation = activation\n",
    "            ))\n",
    "            # Tune dropout rate per layer\n",
    "            model.add(layers.Dropout(\n",
    "                rate=hp.Float(f'dropout_{i}', min_value=0.1, max_value=0.5, step=0.1)\n",
    "            ))\n",
    "\n",
    "    # Output layer\n",
    "    model.add(layers.Dense(4, activation='softmax'))\n",
    "\n",
    "    # Tune learning rate for the Adam optimizer\n",
    "    learning_rate = hp.Float('learning_rate', 1e-4, 1e-2, sampling='log')\n",
    "    optimizer = keras.optimizers.Adam(learning_rate=learning_rate)\n",
    "\n",
    "    model.compile(\n",
    "        optimizer=optimizer,\n",
    "        loss='categorical_crossentropy',\n",
    "        metrics=['accuracy']\n",
    "    )\n",
    "    return model\n"
   ]
  },
  {
   "cell_type": "code",
   "execution_count": 35,
   "id": "c209c0d2",
   "metadata": {},
   "outputs": [
    {
     "name": "stdout",
     "output_type": "stream",
     "text": [
      "Reloading Tuner from tuner_results/dnn_tuning/tuner0.json\n"
     ]
    }
   ],
   "source": [
    "tuner = kt.Hyperband(\n",
    "    build_model,\n",
    "    objective='val_accuracy',\n",
    "    max_epochs=30,\n",
    "    factor=3,\n",
    "    directory='tuner_results',\n",
    "    project_name='dnn_tuning'\n",
    ")\n"
   ]
  },
  {
   "cell_type": "code",
   "execution_count": 36,
   "id": "afb8be87",
   "metadata": {},
   "outputs": [],
   "source": [
    "stop_early = keras.callbacks.EarlyStopping(monitor='val_loss', patience=5)\n",
    "\n",
    "tuner.search(\n",
    "    train_x, train_y,\n",
    "    epochs=50,\n",
    "    validation_data=(test_x, test_y),\n",
    "    callbacks=[stop_early],\n",
    "    verbose=1\n",
    ")\n"
   ]
  },
  {
   "cell_type": "code",
   "execution_count": null,
   "id": "15828d03",
   "metadata": {},
   "outputs": [
    {
     "name": "stdout",
     "output_type": "stream",
     "text": [
      "\u001b[1m51/51\u001b[0m \u001b[32m━━━━━━━━━━━━━━━━━━━━\u001b[0m\u001b[37m\u001b[0m \u001b[1m0s\u001b[0m 2ms/step\n"
     ]
    }
   ],
   "source": [
    "\n",
    "# Example: replace this with your run_id\n",
    "run_id = \"eaf4f83929a2466da5f626682e1fabd3\"\n",
    "\n",
    "# Load the model back\n",
    "loaded_model = mlflow.keras.load_ººmodel(f\"runs:/{run_id}/keras_model\")\n",
    "\n",
    "# Use it like any Keras model\n",
    "predictions = loaded_model.predict(test_x)"
   ]
  }
 ],
 "metadata": {
  "kernelspec": {
   "display_name": "Python 3",
   "language": "python",
   "name": "python3"
  },
  "language_info": {
   "codemirror_mode": {
    "name": "ipython",
    "version": 3
   },
   "file_extension": ".py",
   "mimetype": "text/x-python",
   "name": "python",
   "nbconvert_exporter": "python",
   "pygments_lexer": "ipython3",
   "version": "3.11.13"
  }
 },
 "nbformat": 4,
 "nbformat_minor": 5
}
